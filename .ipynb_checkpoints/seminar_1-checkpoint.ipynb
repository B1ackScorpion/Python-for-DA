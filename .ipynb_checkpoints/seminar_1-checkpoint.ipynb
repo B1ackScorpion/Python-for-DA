{
 "cells": [
  {
   "cell_type": "markdown",
   "id": "26cf8069-6a87-49fd-8cba-5404ba10c6c1",
   "metadata": {},
   "source": [
    "## Задача 0\n",
    "```\n",
    "    code\n",
    "```\n",
    "\n",
    "- Номер задачи - заголовок 2\n",
    "- Номер подзадачи - заголовок 3\n",
    "- Предоставленные наборы данных оформлять, как код"
   ]
  },
  {
   "cell_type": "markdown",
   "id": "974ad3f8-7c42-46ce-a9c2-12b02692d8eb",
   "metadata": {
    "jp-MarkdownHeadingCollapsed": true
   },
   "source": [
    "## 1 задача"
   ]
  },
  {
   "cell_type": "markdown",
   "id": "b8792942-52f9-4cbc-b75f-6c73f7e4b269",
   "metadata": {},
   "source": [
    "### 1.1 Соедините два словаря в один\n",
    "```\n",
    "dict1 = {'One': 1, 'Two': 2, 'Three': 3}\n",
    "\n",
    "dict2 = {'Four': 4, 'Five': 5, 'Six': 6}\n",
    "```"
   ]
  },
  {
   "cell_type": "code",
   "execution_count": 19,
   "id": "9104a8f4-990d-412c-9a6a-c4f0e59ed743",
   "metadata": {},
   "outputs": [],
   "source": [
    "dict1 = {'One': 1, 'Two': 2, 'Three': 3}\n",
    "dict2 = {'Four': 4, 'Five': 5, 'Six': 6}"
   ]
  },
  {
   "cell_type": "code",
   "execution_count": 12,
   "id": "2a260ac0-884c-4b1b-8680-8a171aa4fdf8",
   "metadata": {},
   "outputs": [
    {
     "data": {
      "text/plain": [
       "{'One': 1, 'Two': 2, 'Three': 3, 'Four': 4, 'Five': 5, 'Six': 6}"
      ]
     },
     "execution_count": 12,
     "metadata": {},
     "output_type": "execute_result"
    }
   ],
   "source": [
    "dict1.update(dict2)\n",
    "dict1"
   ]
  },
  {
   "cell_type": "markdown",
   "id": "435d066d-bc1d-485d-97aa-3069c4af27c9",
   "metadata": {},
   "source": [
    "### 1.2 Напишите функцию, которая на вход принимает два словаря и возвращает один объединенный словарь\r\n",
    "Используйте аннотирование типов"
   ]
  },
  {
   "cell_type": "code",
   "execution_count": 21,
   "id": "dd2537e6-e268-4942-ad12-d893e906816c",
   "metadata": {},
   "outputs": [
    {
     "data": {
      "text/plain": [
       "{'One': 1, 'Two': 2, 'Three': 3, 'Four': 4, 'Five': 5, 'Six': 6}"
      ]
     },
     "execution_count": 21,
     "metadata": {},
     "output_type": "execute_result"
    }
   ],
   "source": [
    "def merge_dict(dict1: dict, dict2: dict) -> dict:\n",
    "    dict1.update(dict2)\n",
    "    return dict1\n",
    "\n",
    "merge_dict(dict1, dict2)"
   ]
  },
  {
   "cell_type": "markdown",
   "id": "fa3f3aba-3626-458f-b0f6-4ba57f6ab6b4",
   "metadata": {},
   "source": [
    "## 2 Задача"
   ]
  },
  {
   "cell_type": "markdown",
   "id": "780ca8de-a35c-4132-a062-e0c78d26138a",
   "metadata": {},
   "source": [
    "Напишите функцию, которая из двух списков, делает один словарь, где элементы из первого списка - ключи, а элементы из второго списка - значения\n",
    "```\n",
    "keys = ['One', 'Two', 'Three']\n",
    "\n",
    "values = [1, 2, 3]\n",
    "```\n",
    "\n",
    "Используйте аннотирование типов"
   ]
  },
  {
   "cell_type": "code",
   "execution_count": 42,
   "id": "c2b338fb-3e19-40af-8e49-db00c74fd264",
   "metadata": {},
   "outputs": [],
   "source": [
    "keys = ['One', 'Two', 'Three']\n",
    "\n",
    "values = [1, 2,3]"
   ]
  },
  {
   "cell_type": "markdown",
   "id": "801dc789-cc38-4571-a5fb-3986774e3467",
   "metadata": {},
   "source": [
    "### 2.1 Используя цикл for"
   ]
  },
  {
   "cell_type": "code",
   "execution_count": 46,
   "id": "f0a33c40-5f3f-4ff9-890a-789202de04e8",
   "metadata": {},
   "outputs": [
    {
     "data": {
      "text/plain": [
       "{'One': 1, 'Two': 2, 'Three': 3}"
      ]
     },
     "execution_count": 46,
     "metadata": {},
     "output_type": "execute_result"
    }
   ],
   "source": [
    "def get_dict(keys: list, values: list) -> dict:\n",
    "    res_dict = {}\n",
    "\n",
    "    for i in range(len(keys)):\n",
    "        res_dict.update(\n",
    "            {\n",
    "                keys[i]: values[i]\n",
    "            })\n",
    "    return res_dict\n",
    "\n",
    "get_dict(keys, values)"
   ]
  },
  {
   "cell_type": "markdown",
   "id": "d8bec60b-e980-40b0-a999-9b349af2e5ae",
   "metadata": {},
   "source": [
    "### 2.2 Используя dict comprehensions"
   ]
  },
  {
   "cell_type": "code",
   "execution_count": 52,
   "id": "b301bc2e-6d27-440f-a610-88a188b4be74",
   "metadata": {},
   "outputs": [
    {
     "data": {
      "text/plain": [
       "{'One': 1, 'Two': 2, 'Three': 3}"
      ]
     },
     "execution_count": 52,
     "metadata": {},
     "output_type": "execute_result"
    }
   ],
   "source": [
    "def get_dict(keys: list, values: list) -> dict:\n",
    "    return {keys[i]: values[i] for i in range(len(values))}\n",
    "\n",
    "get_dict(keys, values)"
   ]
  },
  {
   "cell_type": "markdown",
   "id": "ea1eb726-ec65-4910-bacd-8175b6fafa19",
   "metadata": {},
   "source": [
    "## 3 Задача"
   ]
  },
  {
   "cell_type": "markdown",
   "id": "0bc4457b-d211-4abd-8f62-3ab649a0a557",
   "metadata": {},
   "source": [
    "### 3.1 Напишите функцию с циклом for\n",
    "\n",
    "Функция на вход принимает:\n",
    "\n",
    "- исходный словарь\n",
    "- ключи, которые нужно извлечь (аргумент по умолчанию)\n",
    "\n",
    "На выходе словарь с нужными ключами\n",
    "\n",
    "Используйте аннотирование типов"
   ]
  },
  {
   "cell_type": "code",
   "execution_count": 68,
   "id": "18958d4d-1197-4bc1-b4f9-55b39606db5d",
   "metadata": {},
   "outputs": [],
   "source": [
    "client_dict = {\n",
    "    \"name\": \"John\",\n",
    "    \"age\": 25,\n",
    "    \"salary\": 5000,\n",
    "    \"city\": \"Moscow\"\n",
    "}"
   ]
  },
  {
   "cell_type": "code",
   "execution_count": 70,
   "id": "952214aa-755f-4d7c-a735-051d02222a30",
   "metadata": {},
   "outputs": [],
   "source": [
    "keys = ['name', 'city']"
   ]
  },
  {
   "cell_type": "code",
   "execution_count": 76,
   "id": "f8692c9e-caf5-4c1c-b742-3864deff8587",
   "metadata": {},
   "outputs": [
    {
     "data": {
      "text/plain": [
       "{'name': 'John', 'city': 'Moscow'}"
      ]
     },
     "execution_count": 76,
     "metadata": {},
     "output_type": "execute_result"
    }
   ],
   "source": [
    "def get_keys_from_dict(base_dict: dict, keys: list) -> dict:\n",
    "    res_dict = {} # dict()\n",
    "    for k in keys:\n",
    "        res_dict.update(\n",
    "            {\n",
    "                k: base_dict[k]\n",
    "            })\n",
    "    return res_dict\n",
    "\n",
    "get_keys_from_dict(client_dict, keys)"
   ]
  },
  {
   "cell_type": "markdown",
   "id": "135ee1d9-fd17-44bd-892a-46407bd074fb",
   "metadata": {},
   "source": [
    "### 3.2 Используя dict comprehensions"
   ]
  },
  {
   "cell_type": "code",
   "execution_count": 80,
   "id": "68df3e9f-3190-41c3-bc54-1d30f62a4b58",
   "metadata": {},
   "outputs": [
    {
     "data": {
      "text/plain": [
       "{'name': 'John', 'city': 'Moscow'}"
      ]
     },
     "execution_count": 80,
     "metadata": {},
     "output_type": "execute_result"
    }
   ],
   "source": [
    "new_dict = {k: client_dict[k] for k in keys}\n",
    "new_dict"
   ]
  },
  {
   "cell_type": "markdown",
   "id": "ba91bc5a-2ad8-47c6-a6df-0981fcc327d4",
   "metadata": {},
   "source": [
    "## 5 Задача"
   ]
  },
  {
   "cell_type": "markdown",
   "id": "15403075-8b14-4c75-855f-3df06325e57f",
   "metadata": {},
   "source": [
    "### 5.1 Найдите картинку в интернете и прикрепите её в ячейку с текстом"
   ]
  },
  {
   "cell_type": "markdown",
   "id": "ae721f40-b883-45ad-9c51-5d8a84bacb27",
   "metadata": {},
   "source": [
    "<img src=https://149695847.v2.pressablecdn.com/wp-content/uploads/2017/06/ea8853d740994d7a23b587d20033c262.jpg width=300>"
   ]
  },
  {
   "cell_type": "markdown",
   "id": "fb5f7124-9b2f-451d-927d-ea205bd18ec3",
   "metadata": {},
   "source": [
    "### 5.2 Создайте следующую таблицу в ячейке с текстом"
   ]
  },
  {
   "cell_type": "markdown",
   "id": "f6f0660b-507a-4553-8d08-7f032d4ebb48",
   "metadata": {},
   "source": [
    "<table>\r",
    "    \n",
    "<tr>        \r\n",
    "<td> </td        >\r\n",
    "<td>До события</t        d>\r\n",
    "<td>Во время события</    td>\r\n",
    "<    /tr>\r",
    "        \n",
    "<tr>\r\n",
    "<td>1 контрольная точк        а</td>\r\n",
    "<td>2        50</td>\r\n",
    "<td>    500</t    d>\r\n",
    "<        /tr>\r\n",
    "<tr>\r\n",
    "<td>2 контрольная         точка</td>\r\n",
    "        <td>300</td>\r",
    "    \n",
    "<td>7    00</t        d>\r\n",
    "</tr>\r\n",
    "<tr>\r\n",
    "<td>3 контро        льная точка</        td>\r\n",
    "<td>400<    /td>\r\n",
    "    <td>8        00</td>\r\n",
    "</tr>\r\n",
    "<tr>\r\n",
    "<t        d>Итог за побе        ду</td>\r\n",
    "<td>1    000</td>\r\n",
    "<td>2000</td>\r\n",
    "</tr>\r\n",
    "</table>"
   ]
  },
  {
   "cell_type": "markdown",
   "id": "6d27e55c-9ace-44bc-9078-379fdfd58e85",
   "metadata": {},
   "source": [
    "## 6 Задача\n",
    "Напишите функцию, которая может принимать любое количество трат пользователя и считать сумму и среднее.\n",
    "\n",
    "- На вход поступают целочисленные значения в любом количестве\n",
    "- На выходе словарь с ключами суммы трат и средней траты"
   ]
  },
  {
   "cell_type": "code",
   "execution_count": 33,
   "id": "072703d4-e583-4182-928c-3c485bd2c947",
   "metadata": {},
   "outputs": [
    {
     "data": {
      "text/plain": [
       "{'sum': 55, 'avg': 5.5}"
      ]
     },
     "execution_count": 33,
     "metadata": {},
     "output_type": "execute_result"
    }
   ],
   "source": [
    "def func_sum(*args):\n",
    "    # 1, 2, 3, 4, 5, ...* - tuple (1, 2, 3, 4, 5, 6...)\n",
    "    # a=1, b=2, c=3... ** - dict {'a': 1, 'b': 2...}\n",
    "    sum_purch = sum(args)\n",
    "    n_purch = len(args)\n",
    "    return {\n",
    "        'sum': sum_purch,\n",
    "        'avg': sum_purch / n_purch\n",
    "    }\n",
    "\n",
    "func_sum(1, 2, 3, 4, 5, 6, 7, 8, 9, 10)"
   ]
  },
  {
   "cell_type": "markdown",
   "id": "3cd99f2c-27e5-4ac1-8a9d-b74e1c15d60e",
   "metadata": {},
   "source": [
    "## 4 Задача"
   ]
  },
  {
   "cell_type": "markdown",
   "id": "60a6f734-0e01-435d-978c-16256dff0471",
   "metadata": {},
   "source": [
    "### 4.1 Сгенерируйте случайные целые числа от 0 до 100 в количестве 5 штук с помощью модуля random\n",
    "- Зафиксируйте псевдогенерацию, чтобы сгенерированные значения всегда были одинаковые\n",
    "- Используйте list comprehensions"
   ]
  },
  {
   "cell_type": "code",
   "execution_count": 59,
   "id": "62568bc9-45f1-4aa2-9545-65ef64b91236",
   "metadata": {},
   "outputs": [
    {
     "data": {
      "text/plain": [
       "[35, 29, 58, 57, 70]"
      ]
     },
     "execution_count": 59,
     "metadata": {},
     "output_type": "execute_result"
    }
   ],
   "source": [
    "import random\n",
    "random.seed(109)\n",
    "data = [random.randint(0, 100) for i in range(5)]\n",
    "data"
   ]
  },
  {
   "cell_type": "markdown",
   "id": "c0723b8d-2cc2-4aa6-9aec-0e873de3c580",
   "metadata": {},
   "source": [
    "### 4.2* Напишите генератор\n",
    "- Генератор на вход принимает список с данными о клиенте (данные из пункта 4.1)\n",
    "- Внутри генератора реализуйте обход по списку с данными\n",
    "\n",
    "На каждой итерации генератор будет возвращать кортеж из двух элементов:\n",
    "\n",
    "1. данные по клиенту (в зависимости от итерации, на 0 итерации вернется 0 элемент, на 1 итерации вернется 1 элемент и тд)\n",
    "2. целочисленное значение, которое показывает, сколько секунд прошло с предыдущей итерации\n",
    "Примечание: секунды, которые возвращаются должны показывать время не с начала запуска генератора, а именно то время, которое прошло с предыдущей итерации. А значит время на первой итерации должно равняться 0.\n",
    "\n",
    "- Используйте функцию time из модуля time для подсчета времени.\n",
    "- Чтобы проверить работу таймера, запустите проход по генератору в цикле с time.sleep(2)"
   ]
  },
  {
   "cell_type": "code",
   "execution_count": 64,
   "id": "af5a0cb4-1674-40e8-9f8b-bcacd790b625",
   "metadata": {},
   "outputs": [],
   "source": [
    "import time\n",
    "\n",
    "def generator(data):\n",
    "    last_time = None\n",
    "\n",
    "    for item in data:\n",
    "        current_time = time.time()\n",
    "        if last_time:\n",
    "            delta = current_time - last_time\n",
    "        else:\n",
    "            delta = 0\n",
    "        last_time = time.time()\n",
    "        yield(int(delta), item)"
   ]
  },
  {
   "cell_type": "code",
   "execution_count": 72,
   "id": "e97384f7-ce48-4a43-bd12-88e6c2ad57f1",
   "metadata": {},
   "outputs": [
    {
     "name": "stdout",
     "output_type": "stream",
     "text": [
      "(0, 35)\n",
      "(2, 29)\n",
      "(2, 58)\n",
      "(2, 57)\n",
      "(2, 70)\n"
     ]
    }
   ],
   "source": [
    "for i in generator(data):\n",
    "    print(i)\n",
    "    time.sleep(2)"
   ]
  },
  {
   "cell_type": "code",
   "execution_count": null,
   "id": "4e7cf810-77d9-4284-aa4b-940d4cedc720",
   "metadata": {},
   "outputs": [],
   "source": []
  }
 ],
 "metadata": {
  "kernelspec": {
   "display_name": "Python 3 (ipykernel)",
   "language": "python",
   "name": "python3"
  },
  "language_info": {
   "codemirror_mode": {
    "name": "ipython",
    "version": 3
   },
   "file_extension": ".py",
   "mimetype": "text/x-python",
   "name": "python",
   "nbconvert_exporter": "python",
   "pygments_lexer": "ipython3",
   "version": "3.11.7"
  }
 },
 "nbformat": 4,
 "nbformat_minor": 5
}

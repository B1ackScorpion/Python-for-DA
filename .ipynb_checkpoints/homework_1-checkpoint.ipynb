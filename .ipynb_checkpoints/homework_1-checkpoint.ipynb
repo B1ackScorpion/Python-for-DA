{
 "cells": [
  {
   "cell_type": "markdown",
   "id": "561511fa-f30e-41fa-8f24-6a773fbef158",
   "metadata": {},
   "source": [
    "## 1 Задача\n",
    "Дан список adv с затратами на рекламу.\n",
    "\n",
    "Но в данных есть ошибки, некоторые затраты имеют отрицательную величину.\n",
    "\n",
    "Удалите такие значения из списка и посчитайте суммарные затраты.\n",
    "\n",
    "Запишите их в переменную x.\n",
    "\n",
    "Используйте list comprehensions.\n",
    "```\n",
    "    adv = [100, 125, -90, 345, 655, -1, 0, 200]\n",
    "```"
   ]
  },
  {
   "cell_type": "code",
   "execution_count": 70,
   "id": "74b7424b-a391-4da4-9569-195f5bc0e99a",
   "metadata": {},
   "outputs": [
    {
     "name": "stdout",
     "output_type": "stream",
     "text": [
      "1425\n"
     ]
    }
   ],
   "source": [
    "adv = [100, 125, -90, 345, 655, -1, 0, 200]\n",
    "\n",
    "x = sum([adv[i] for i in range(len(adv)) if adv[i] >= 0])\n",
    "print(x)"
   ]
  },
  {
   "cell_type": "markdown",
   "id": "aa1854b4-65cc-4ba5-9398-629fcac8c3a4",
   "metadata": {},
   "source": [
    "## 2 Задача"
   ]
  },
  {
   "cell_type": "markdown",
   "id": "70b78dca-d6e6-44ac-ac5b-e2a9d1170c1f",
   "metadata": {},
   "source": [
    "На складе лежат разные фрукты в разном количестве.\r\n",
    "Нужно написать функцию total_fruits, которая на вход принимает любое количество названий фруктов и их количество, а возвращает общее количество фруктов на складе.\r\n",
    "\r\n",
    "можно решить через *kwargs"
   ]
  },
  {
   "cell_type": "code",
   "execution_count": 58,
   "id": "ca8e29e8-c5cd-4e8b-82ff-893a6d3000fa",
   "metadata": {},
   "outputs": [],
   "source": [
    "def total_fruits(**kwargs):\n",
    "    sum_fruits = 0\n",
    "    for i in kwargs:\n",
    "        sum_fruits += kwargs[i]\n",
    "    return sum_fruits  "
   ]
  },
  {
   "cell_type": "code",
   "execution_count": 60,
   "id": "3173fffd-bd56-4654-8520-687c79420211",
   "metadata": {},
   "outputs": [
    {
     "name": "stdout",
     "output_type": "stream",
     "text": [
      "23\n"
     ]
    }
   ],
   "source": [
    "print(total_fruits(apples=10, bananas=5, oranges=8))"
   ]
  },
  {
   "cell_type": "markdown",
   "id": "d5530d70-f76e-4cf4-814c-4188c067b9d2",
   "metadata": {},
   "source": [
    "## 3 Задача"
   ]
  },
  {
   "cell_type": "markdown",
   "id": "294cab10-c0c2-4e2f-9516-53b2b5db7423",
   "metadata": {},
   "source": [
    "Даны два списка: дата покупки dates, суммы покупок по датам income.\n",
    "Найти итоговую сумму всех покупок в ноябре и сохранить ее в переменную x.\n",
    "Используйте list comprehensions."
   ]
  },
  {
   "cell_type": "code",
   "execution_count": 64,
   "id": "a2121fa4-c8df-4945-82a3-a93942e55015",
   "metadata": {},
   "outputs": [],
   "source": [
    "dates = ['2021-11-01']\n",
    "income = [100]"
   ]
  },
  {
   "cell_type": "code",
   "execution_count": 126,
   "id": "6130f1ba-5fc7-4d84-a75e-c23ef5f49974",
   "metadata": {},
   "outputs": [
    {
     "name": "stdout",
     "output_type": "stream",
     "text": [
      "['2021', '11', '01']\n",
      "100\n"
     ]
    }
   ],
   "source": [
    "x = 0\n",
    "for i in range(len(dates)):\n",
    "    print(dates[i].split('-'))\n",
    "    if dates[i].split('-')[1] == '11':\n",
    "        x += income[i]\n",
    "print(x)"
   ]
  },
  {
   "cell_type": "code",
   "execution_count": 116,
   "id": "31ca8051-5be9-43c8-9af3-2cb0bc9b603c",
   "metadata": {},
   "outputs": [
    {
     "name": "stdout",
     "output_type": "stream",
     "text": [
      "100\n"
     ]
    }
   ],
   "source": [
    "x = sum(income[i] for i in range(len(dates)) if dates[i].split('-')[1] == '11')\n",
    "print(x)"
   ]
  },
  {
   "cell_type": "markdown",
   "id": "6a8f61cd-08db-4200-ade5-560448e47056",
   "metadata": {},
   "source": [
    "## 4 Задача"
   ]
  },
  {
   "cell_type": "markdown",
   "id": "607a9e58-a915-4442-af85-45c0843ebbd2",
   "metadata": {},
   "source": [
    "Найдите выручку компании в зависимости от месяца. Для этого напишите функцию calc_income_by_month(), которая на вход принимает список с датами и список с выручкой, а на выходе словарь, где ключи - это месяцы, а значения - это выручка. Используйте аннотирование типов."
   ]
  },
  {
   "cell_type": "code",
   "execution_count": 136,
   "id": "36e645a4-8abe-4966-8a0c-23788764753c",
   "metadata": {},
   "outputs": [],
   "source": [
    "dates = ['2021-10-01', '2021-11-05', '2021-12-10']\n",
    "income = [100, 200, 300]"
   ]
  },
  {
   "cell_type": "code",
   "execution_count": 176,
   "id": "8d2c4fcb-9020-40ef-a7e9-cc33f51219bb",
   "metadata": {},
   "outputs": [],
   "source": [
    "def calc_income_by_month(dates: list, incomes: list) -> dict:\n",
    "    new_dict = {}\n",
    "    for i in range(len(dates)):\n",
    "        month = dates[i].split('-')[1]\n",
    "        if month in new_dict:\n",
    "            new_dict[month] += incomes[i]\n",
    "        else:    \n",
    "            new_dict.update(\n",
    "                {\n",
    "                month : incomes[i]\n",
    "                })\n",
    "    return new_dict"
   ]
  },
  {
   "cell_type": "code",
   "execution_count": 184,
   "id": "4d583e52-4ac2-44ef-b25f-86444793b0e8",
   "metadata": {},
   "outputs": [
    {
     "name": "stdout",
     "output_type": "stream",
     "text": [
      "{'10': 100, '11': 200, '12': 300}\n"
     ]
    }
   ],
   "source": [
    "print(calc_income_by_month(dates = ['2021-10-01', '2021-11-05', '2021-12-10'], incomes = [100, 200, 300]))"
   ]
  },
  {
   "cell_type": "code",
   "execution_count": null,
   "id": "440f88a1-9f03-4410-81dc-cc6830a01e63",
   "metadata": {},
   "outputs": [],
   "source": []
  }
 ],
 "metadata": {
  "kernelspec": {
   "display_name": "Python 3 (ipykernel)",
   "language": "python",
   "name": "python3"
  },
  "language_info": {
   "codemirror_mode": {
    "name": "ipython",
    "version": 3
   },
   "file_extension": ".py",
   "mimetype": "text/x-python",
   "name": "python",
   "nbconvert_exporter": "python",
   "pygments_lexer": "ipython3",
   "version": "3.11.7"
  }
 },
 "nbformat": 4,
 "nbformat_minor": 5
}
